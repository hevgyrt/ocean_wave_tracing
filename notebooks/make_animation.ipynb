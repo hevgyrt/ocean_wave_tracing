{
 "cells": [
  {
   "cell_type": "markdown",
   "id": "3b20c0aa",
   "metadata": {},
   "source": [
    "# making animation for github"
   ]
  },
  {
   "cell_type": "code",
   "execution_count": 2,
   "id": "4a5c28a1",
   "metadata": {},
   "outputs": [],
   "source": [
    "import numpy as np\n",
    "import matplotlib.pyplot as plt\n",
    "import matplotlib.animation as animation\n",
    "import cmocean\n",
    "import xarray as xa\n",
    "\n",
    "import sys,os\n",
    "testdir = os.path.dirname(os.getcwd() + '/')\n",
    "srcdir = '..'\n",
    "sys.path.insert(0, os.path.abspath(os.path.join(testdir, srcdir)))\n",
    "from ocean_wave_tracing import Wave_tracing\n",
    "\n",
    "%matplotlib inline"
   ]
  },
  {
   "cell_type": "code",
   "execution_count": 2,
   "id": "da17ed17",
   "metadata": {},
   "outputs": [],
   "source": [
    "# READ INPUT DATA\n",
    "ncin = xa.open_dataset('idealized_input.nc')\n",
    "idt0=15 #22"
   ]
  },
  {
   "cell_type": "markdown",
   "id": "03a8357d",
   "metadata": {},
   "source": [
    "# Current forcing"
   ]
  },
  {
   "cell_type": "code",
   "execution_count": 3,
   "id": "84299a51",
   "metadata": {},
   "outputs": [],
   "source": [
    "X = ncin.x.data\n",
    "Y = ncin.y.data\n",
    "nx = len(X)\n",
    "ny = len(Y)\n",
    "dx=dy=X[1]-X[0]\n",
    "nb_wave_rays = 200#550#nx\n",
    "T = 3000\n",
    "nt = 190 # 1500\n",
    "wave_period = 10 #s\n",
    "X0, XN = X[0], X[-1] \n",
    "Y0, YN = Y[0], Y[-1]\n",
    "\n",
    "i_w_side = 'left'\n",
    "theta0=0"
   ]
  },
  {
   "cell_type": "code",
   "execution_count": 4,
   "id": "56e7d293",
   "metadata": {},
   "outputs": [],
   "source": [
    "# EDDY\n",
    "wt_eddy = Wave_tracing(ncin.U[idt0::,:,:], ncin.V[idt0::,:,:], nx, ny, nt,T,dx,dy, nb_wave_rays=nb_wave_rays,\n",
    "                     domain_X0=X0, domain_XN=XN,\n",
    "                     domain_Y0=Y0, domain_YN=YN,\n",
    "                     )\n",
    "wt_eddy.set_initial_condition(wave_period, theta0,incoming_wave_side=i_w_side)\n",
    "wt_eddy.solve()"
   ]
  },
  {
   "cell_type": "code",
   "execution_count": 5,
   "id": "936200f1",
   "metadata": {},
   "outputs": [],
   "source": [
    "# Jet\n",
    "wt_jet = Wave_tracing(ncin.U_jet[:,:], ncin.V_zero[idt0,:,:], nx, ny, nt,T,dx,dy,nb_wave_rays=nb_wave_rays,\n",
    "                     domain_X0=X0, domain_XN=XN,\n",
    "                     domain_Y0=Y0, domain_YN=YN,\n",
    "                     )\n",
    "wt_jet.set_initial_condition( wave_period, theta0, incoming_wave_side=i_w_side)\n",
    "wt_jet.solve()\n",
    "ds_jet_left=wt_jet.to_ds()\n",
    "\n"
   ]
  },
  {
   "cell_type": "code",
   "execution_count": 10,
   "id": "82728291",
   "metadata": {},
   "outputs": [],
   "source": [
    "#Opposing jet\n",
    "wt_jet_o = Wave_tracing(ncin.U_jet[:,:], ncin.V_zero[idt0,:,:], nx, ny, nt,T,dx,dy,nb_wave_rays=nb_wave_rays,\n",
    "                     domain_X0=X0, domain_XN=XN,\n",
    "                     domain_Y0=Y0, domain_YN=YN,\n",
    "                     )\n",
    "wt_jet_o.set_initial_condition( wave_period, np.pi,incoming_wave_side='right')\n",
    "wt_jet_o.solve()\n",
    "ds_jet_right=wt_jet_o.to_ds()"
   ]
  },
  {
   "cell_type": "code",
   "execution_count": 9,
   "id": "10e92d9d",
   "metadata": {},
   "outputs": [],
   "source": [
    "# constant slope bottom lower right\n",
    "wt_cs_lr = Wave_tracing(ncin.U_zero[idt0,:,:], ncin.V_zero[idt0,:,:], nx, ny, nt,T,dx,dy, nb_wave_rays=nb_wave_rays,\n",
    "                        domain_X0=X0, domain_XN=XN,\n",
    "                        domain_Y0=Y0, domain_YN=YN,\n",
    "                        d=ncin.bathymetry_bm.data)\n",
    "wt_cs_lr.set_initial_condition( wave_period,  np.linspace(np.pi/10,0.66*np.pi,nb_wave_rays),ipx=float(5000),ipy=float(2000),)\n",
    "wt_cs_lr.solve()"
   ]
  },
  {
   "cell_type": "code",
   "execution_count": 28,
   "id": "44be211d",
   "metadata": {},
   "outputs": [],
   "source": [
    "#plotting params\n",
    "fs=15\n",
    "s_max=0.4 #max speed"
   ]
  },
  {
   "cell_type": "code",
   "execution_count": 1,
   "id": "9953d666",
   "metadata": {},
   "outputs": [
    {
     "ename": "NameError",
     "evalue": "name 'plt' is not defined",
     "output_type": "error",
     "traceback": [
      "\u001b[0;31m---------------------------------------------------------------------------\u001b[0m",
      "\u001b[0;31mNameError\u001b[0m                                 Traceback (most recent call last)",
      "Cell \u001b[0;32mIn[1], line 1\u001b[0m\n\u001b[0;32m----> 1\u001b[0m fig,ax \u001b[38;5;241m=\u001b[39m \u001b[43mplt\u001b[49m\u001b[38;5;241m.\u001b[39msubplots(nrows\u001b[38;5;241m=\u001b[39m\u001b[38;5;241m2\u001b[39m,ncols\u001b[38;5;241m=\u001b[39m\u001b[38;5;241m2\u001b[39m,sharex\u001b[38;5;241m=\u001b[39m\u001b[38;5;28;01mTrue\u001b[39;00m,sharey\u001b[38;5;241m=\u001b[39m\u001b[38;5;28;01mTrue\u001b[39;00m,figsize\u001b[38;5;241m=\u001b[39m(\u001b[38;5;241m16\u001b[39m,\u001b[38;5;241m10\u001b[39m),)\n\u001b[1;32m      3\u001b[0m cases \u001b[38;5;241m=\u001b[39m [ds_jet_left, ds_jet_right, wt_eddy, wt_cs_lr]\n\u001b[1;32m      5\u001b[0m idts \u001b[38;5;241m=\u001b[39m np\u001b[38;5;241m.\u001b[39marange(\u001b[38;5;241m0\u001b[39m,nt\u001b[38;5;241m-\u001b[39m\u001b[38;5;241m140\u001b[39m,\u001b[38;5;241m30\u001b[39m)\n",
      "\u001b[0;31mNameError\u001b[0m: name 'plt' is not defined"
     ]
    }
   ],
   "source": [
    "fig,ax = plt.subplots(nrows=2,ncols=2,sharex=True,sharey=True,figsize=(16,10),)\n",
    "\n",
    "cases = [ds_jet_left, ds_jet_right, wt_eddy, wt_cs_lr]\n",
    "\n",
    "idts = np.arange(0,nt-140,30)\n",
    "\n",
    "pc=ax[0,0].pcolormesh(wt_jet.x,wt_jet.y,wt_jet.U[0,:,:],shading='auto',cmap=cmocean.cm.speed,vmin=0,vmax=s_max)\n",
    "\n",
    "pc1=ax[0,1].pcolormesh(wt_jet.x,wt_jet.y,wt_jet.U[0,:,:],shading='auto',cmap=cmocean.cm.speed,vmin=0,vmax=s_max)\n",
    "\n",
    "\n",
    "pc3=ax[1,0].pcolormesh(wt_eddy.x,wt_eddy.y,ncin.speed[idt0,:,:],shading='auto',cmap=cmocean.cm.speed,\n",
    "                   vmin=0,vmax=s_max)\n",
    "\n",
    "q_step = 5\n",
    "qu=ax[1,0].quiver(wt_eddy.x[::q_step],wt_eddy.y[::q_step],\n",
    "                  wt_eddy.U[0,::q_step,::q_step],wt_eddy.V[0,::q_step,::q_step],\n",
    "                  color='r', scale=5)\n",
    "\n",
    "pc2=ax[1,1].pcolormesh(wt_cs_lr.x,wt_cs_lr.y,-wt_cs_lr.d[:,:],shading='auto',cmap=cmocean.cm.deep_r,vmin=-150,vmax=0)\n",
    "\n",
    "for aax in ax.flatten():\n",
    "    aax.tick_params(labelsize=fs)\n",
    "    aax.xaxis.tick_top()\n",
    "\n",
    "ax[0,0].set_xlim([X0,XN])\n",
    "ax[0,0].set_ylim([Y0,YN])\n",
    "\n",
    "\n",
    "\n",
    "ax[0,1].plot(wt_jet.x[140]+wt_jet.U[0,:,10]*8000,wt_jet.y,lw=3, ls='--', c='tab:red',label=r'$U(y)$')\n",
    "ax[0,1].plot(wt_jet.x[140]+wt_jet.U[0,:,10]*0,wt_jet.y,lw=2, ls='-', c='tab:red')\n",
    "ax[0,1].legend(fontsize=fs,loc='upper right')\n",
    "\n",
    "fig.tight_layout()\n",
    "\n",
    "cb1=fig.colorbar(pc, ax=[ax[0,0],ax[1,0]], orientation='horizontal',shrink=0.9, pad=0.04)\n",
    "cb2=fig.colorbar(pc2, ax=[ax[0,1],ax[1,1]], orientation='horizontal',shrink=0.9, extend='min', pad=0.04)\n",
    "cb1.set_label(r'$|\\mathbf{U}| \\: [m~s^{-1}]$',fontsize=fs)\n",
    "cb2.set_label(r'$d \\: [m]$',fontsize=fs)\n",
    "cb1.ax.tick_params(labelsize=fs-2) \n",
    "cb2.ax.tick_params(labelsize=fs-2) \n",
    "\n",
    "#fig.savefig('/home/trygveh/documents/phd/papers/wave_ray_tracing/figures/current_refraction_examples.png',dpi=170)\n",
    "\n",
    "\n",
    "def update(idt):\n",
    "\n",
    "    counter = 0\n",
    "    print(idt)\n",
    "    \n",
    "    for r_id in range(0,wt_jet.nb_wave_rays,15):        \n",
    "        ax[0,0].plot(wt_jet.ray_x[r_id,0:idt],wt_jet.ray_y[r_id,0:idt],'-k',alpha=0.6)\n",
    "        ax[0,1].plot(wt_jet_o.ray_x[r_id,0:idt],wt_jet_o.ray_y[r_id,0:idt],'-k',alpha=0.6)\n",
    "        ax[1,0].plot(wt_eddy.ray_x[r_id,0:idt],wt_eddy.ray_y[r_id,0:idt],'-k',alpha=0.6)\n",
    "        ax[1,1].plot(wt_cs_lr.ray_x[r_id,0:idt],wt_cs_lr.ray_y[r_id,0:idt],'-k',alpha=0.6)\n",
    "        #break\n",
    "\n",
    "\n",
    "ani = animation.FuncAnimation(fig, update, interval=50,save_count=100)# blit=False, save_count=10)\n"
   ]
  },
  {
   "cell_type": "code",
   "execution_count": 3,
   "id": "6a7406f9",
   "metadata": {},
   "outputs": [
    {
     "ename": "NameError",
     "evalue": "name 'ani' is not defined",
     "output_type": "error",
     "traceback": [
      "\u001b[0;31m---------------------------------------------------------------------------\u001b[0m",
      "\u001b[0;31mNameError\u001b[0m                                 Traceback (most recent call last)",
      "Cell \u001b[0;32mIn[3], line 4\u001b[0m\n\u001b[1;32m      1\u001b[0m FFwriter \u001b[38;5;241m=\u001b[39m animation\u001b[38;5;241m.\u001b[39mFFMpegWriter()\n\u001b[1;32m      2\u001b[0m writer \u001b[38;5;241m=\u001b[39m animation\u001b[38;5;241m.\u001b[39mFFMpegWriter(\n\u001b[1;32m      3\u001b[0m      fps\u001b[38;5;241m=\u001b[39m\u001b[38;5;241m23\u001b[39m, metadata\u001b[38;5;241m=\u001b[39m\u001b[38;5;28mdict\u001b[39m(artist\u001b[38;5;241m=\u001b[39m\u001b[38;5;124m'\u001b[39m\u001b[38;5;124mTH\u001b[39m\u001b[38;5;124m'\u001b[39m), bitrate\u001b[38;5;241m=\u001b[39m\u001b[38;5;241m1800\u001b[39m)\n\u001b[0;32m----> 4\u001b[0m \u001b[43mani\u001b[49m\u001b[38;5;241m.\u001b[39msave(\u001b[38;5;124m\"\u001b[39m\u001b[38;5;124mmovie_rt.gif\u001b[39m\u001b[38;5;124m\"\u001b[39m)\u001b[38;5;66;03m#, writer=writer)\u001b[39;00m\n",
      "\u001b[0;31mNameError\u001b[0m: name 'ani' is not defined"
     ]
    }
   ],
   "source": [
    "FFwriter = animation.FFMpegWriter()\n",
    "writer = animation.FFMpegWriter(\n",
    "     fps=23, metadata=dict(artist='TH'), bitrate=1800)\n",
    "ani.save(\"movie_rt.gif\")#, writer=writer)"
   ]
  },
  {
   "cell_type": "code",
   "execution_count": 18,
   "id": "c2905106",
   "metadata": {},
   "outputs": [
    {
     "data": {
      "text/plain": [
       "<matplotlib.animation.FFMpegWriter at 0x7ff0dfbdd790>"
      ]
     },
     "execution_count": 18,
     "metadata": {},
     "output_type": "execute_result"
    }
   ],
   "source": [
    "FFwriter"
   ]
  },
  {
   "cell_type": "code",
   "execution_count": 26,
   "id": "1dd7bb2a",
   "metadata": {},
   "outputs": [],
   "source": [
    "ani.save(filename=\"movie_rt_poc.mp4\")#,writer=FFwriter)"
   ]
  },
  {
   "cell_type": "code",
   "execution_count": 31,
   "id": "eb39a89d",
   "metadata": {},
   "outputs": [],
   "source": [
    "ani.save(filename=\"movie_rt_poc.gif\")#,writer=FFwriter)"
   ]
  },
  {
   "cell_type": "code",
   "execution_count": 27,
   "id": "fdbe0999",
   "metadata": {},
   "outputs": [
    {
     "data": {
      "text/plain": [
       "[]"
      ]
     },
     "execution_count": 27,
     "metadata": {},
     "output_type": "execute_result"
    },
    {
     "data": {
      "image/png": "[encoded data removed]",
      "text/plain": [
       "<Figure size 640x480 with 1 Axes>"
      ]
     },
     "metadata": {},
     "output_type": "display_data"
    }
   ],
   "source": [
    "plt.plot()"
   ]
  }
 ],
 "metadata": {
  "kernelspec": {
   "display_name": "Python 3 (ipykernel)",
   "language": "python",
   "name": "python3"
  },
  "language_info": {
   "codemirror_mode": {
    "name": "ipython",
    "version": 3
   },
   "file_extension": ".py",
   "mimetype": "text/x-python",
   "name": "python",
   "nbconvert_exporter": "python",
   "pygments_lexer": "ipython3",
   "version": "3.11.3"
  }
 },
 "nbformat": 4,
 "nbformat_minor": 5
}
