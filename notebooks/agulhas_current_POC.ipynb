{
 "cells": [
  {
   "cell_type": "markdown",
   "metadata": {},
   "source": [
    "# Script showing impact of refraction in the Agulhas current\n",
    "Using surface currents from ESAs GlobCurrent project: http://globcurrent.ifremer.fr/"
   ]
  },
  {
   "cell_type": "code",
   "execution_count": null,
   "metadata": {},
   "outputs": [],
   "source": [
    "import numpy as np\n",
    "import xarray as xa\n",
    "import matplotlib.pyplot as plt\n",
    "import cmocean\n",
    "import datetime\n",
    "import cartopy.crs as ccrs\n",
    "import cartopy.feature as cfeature\n",
    "import pandas as pd\n",
    "\n",
    "import sys,os\n",
    "testdir = os.path.dirname(os.getcwd() + '/')\n",
    "srcdir = '..'\n",
    "sys.path.insert(0, os.path.abspath(os.path.join(testdir, srcdir)))\n",
    "\n",
    "from ocean_wave_tracing import Wave_tracing\n"
   ]
  },
  {
   "cell_type": "code",
   "execution_count": null,
   "metadata": {},
   "outputs": [],
   "source": [
    "#Read data\n",
    "URI = 'http://tds0.ifremer.fr/thredds/dodsC/GLOBCURRENT-L4-CUREUL_HS-ALT_SUM-V03.0'\n",
    "ocn_m = xa.open_dataset(URI)"
   ]
  },
  {
   "cell_type": "markdown",
   "metadata": {},
   "source": [
    "## Data subsetting\n",
    "Data can be subset in terms of \n",
    "1. variables (VOI: variables of interest)\n",
    "2. horizontal extent (AOI: area of interest)\n",
    "3. temporal extent (TOI: times of interest)"
   ]
  },
  {
   "cell_type": "code",
   "execution_count": null,
   "metadata": {},
   "outputs": [],
   "source": [
    "# Bounding boxes for AOI \n",
    "bbox_idx = slice(700,900,1) #longitude AOI\n",
    "bbox_idy = slice(180,270,1) #latitude AOI\n",
    "\n",
    "fig,ax = plt.subplots(ncols=2,figsize=(15,7))\n",
    "ax[0].pcolormesh(ocn_m.eastward_eulerian_current_velocity.isel(time=24))\n",
    "ax[1].pcolormesh(ocn_m.eastward_eulerian_current_velocity.isel(time=800,lat=bbox_idy,lon=bbox_idx))"
   ]
  },
  {
   "cell_type": "markdown",
   "metadata": {},
   "source": [
    "Now, we define the subsets for VOI and TOI"
   ]
  },
  {
   "cell_type": "code",
   "execution_count": null,
   "metadata": {},
   "outputs": [],
   "source": [
    "# Variables of interest\n",
    "VOI = [ \n",
    "    'eastward_eulerian_current_velocity',\n",
    "    'northward_eulerian_current_velocity',\n",
    "]"
   ]
  },
  {
   "cell_type": "code",
   "execution_count": null,
   "metadata": {},
   "outputs": [],
   "source": [
    "TOI = slice(67230,67249)"
   ]
  },
  {
   "cell_type": "markdown",
   "metadata": {},
   "source": [
    "## Performing data subset"
   ]
  },
  {
   "cell_type": "code",
   "execution_count": null,
   "metadata": {},
   "outputs": [],
   "source": [
    "ocn_m_subset=ocn_m[VOI].isel(time=TOI,lon=bbox_idx,lat=bbox_idy)"
   ]
  },
  {
   "cell_type": "code",
   "execution_count": null,
   "metadata": {},
   "outputs": [],
   "source": [
    "# Create data subset extent for plotting\n",
    "ocn_m_subset_extent_lon = [ocn_m_subset.lon[0].values,ocn_m_subset.lon[-1].values,ocn_m_subset.lon[-1].values,ocn_m_subset.lon[0].values,ocn_m_subset.lon[0].values]\n",
    "ocn_m_subset_extent_lat = [ocn_m_subset.lat[0].values,ocn_m_subset.lat[0].values,ocn_m_subset.lat[-1].values,ocn_m_subset.lat[-1].values,ocn_m_subset.lat[0].values]"
   ]
  },
  {
   "cell_type": "markdown",
   "metadata": {},
   "source": [
    "## Approximate horizontal resolution\n",
    "The horizontal resolution of the global GlobCurrent product is 0.25 degrees. Thus, the distance in x-direction vary with latitude. Since the horizontal resolution is very coarse, we make an approximation the horizontal resolution in x-direction:"
   ]
  },
  {
   "cell_type": "code",
   "execution_count": null,
   "metadata": {},
   "outputs": [],
   "source": [
    "# Check the approximate dx for 0.25 deg resolution\n",
    "# approximate radius of earth in km\n",
    "R = 6373.0\n",
    "\n",
    "lat1 = np.deg2rad(35)\n",
    "lat2 = np.deg2rad(35)\n",
    "lon1 = np.deg2rad(10.25)\n",
    "lon2 = np.deg2rad(10)\n",
    "\n",
    "dlon = lon2 - lon1\n",
    "dlat = lat2 - lat1\n",
    "\n",
    "a = np.sin(dlat / 2)**2 + np.cos(lat1) * np.cos(lat2) * np.sin(dlon / 2)**2\n",
    "c = 2 * np.arctan2(np.sqrt(a), np.sqrt(1 - a))\n",
    "\n",
    "distance = R * c\n",
    "\n",
    "print(f\"Result: {distance} km\")"
   ]
  },
  {
   "cell_type": "markdown",
   "metadata": {},
   "source": [
    "# Ray tracing\n",
    "Here, we create an approximate cartesian subset of the GlobCurrent product covering the area around the Agulhas current"
   ]
  },
  {
   "cell_type": "code",
   "execution_count": null,
   "metadata": {},
   "outputs": [],
   "source": [
    "dx= 22000 # approximately\n",
    "dy=28000 # approximately\n",
    "\n",
    "x = np.arange(len(ocn_m_subset.lon))*dx\n",
    "y = np.arange(len(ocn_m_subset.lat))*dy"
   ]
  },
  {
   "cell_type": "code",
   "execution_count": null,
   "metadata": {},
   "outputs": [],
   "source": [
    "X0, XN = x[0], x[-1]\n",
    "Y0, YN = y[0], y[-1]\n",
    "\n",
    "# Resolution\n",
    "nx = len(x)\n",
    "ny = len(y)\n",
    "\n",
    "# Number of rays\n",
    "nb_wave_rays =60\n",
    "\n",
    "# Duration (in seconds)\n",
    "T = 62*3600\n",
    "print(\"T={}h\".format(T/3600))\n",
    "\n",
    "# Number of discrete time steps\n",
    "nt = 1200"
   ]
  },
  {
   "cell_type": "code",
   "execution_count": null,
   "metadata": {},
   "outputs": [],
   "source": [
    "wave_period = 10 # [s]\n",
    "theta0 = np.ones(nb_wave_rays)*1.35 # [rad]\n",
    "\n",
    "# Initial position\n",
    "ipx = np.linspace(2.0*1e6,2.25*1e6,nb_wave_rays) # initial position x\n",
    "ipy = np.linspace(0.5,0.47,nb_wave_rays)*1e6 # initial position y"
   ]
  },
  {
   "cell_type": "code",
   "execution_count": null,
   "metadata": {},
   "outputs": [],
   "source": [
    "# Due to the data format in GlobCurrent, we have to recast the time variables\n",
    "tt = [np.datetime64(ocn_m_subset.time.values[i]) for i in range(ocn_m_subset.time.size)]"
   ]
  },
  {
   "cell_type": "code",
   "execution_count": null,
   "metadata": {},
   "outputs": [],
   "source": [
    "# NOTE, we have to rename the lat and lon dimensions to x and y, respectively.\n",
    "\n",
    "wt = Wave_tracing(U=ocn_m_subset.assign(time=np.array(tt)).eastward_eulerian_current_velocity.rename({'lon':'x','lat':'y'}),\n",
    "                  V=ocn_m_subset.assign(time=np.array(tt)).northward_eulerian_current_velocity.rename({'lon':'x','lat':'y'}),\n",
    "                       nx=nx, ny=ny, nt=nt,T=T,\n",
    "                       dx=dx,dy=dy, nb_wave_rays=nb_wave_rays,\n",
    "                       domain_X0=X0, domain_XN=XN,\n",
    "                       domain_Y0=Y0, domain_YN=YN,temporal_evolution=True                       \n",
    "                      )\n",
    "\n",
    "# Set initial conditions\n",
    "wt.set_initial_condition(wave_period=wave_period, \n",
    "                              theta0=theta0,ipx=ipx,ipy=ipy,\n",
    "                              )\n",
    "# Solve\n",
    "wt.solve()"
   ]
  },
  {
   "cell_type": "markdown",
   "metadata": {},
   "source": [
    "## Plotting"
   ]
  },
  {
   "cell_type": "code",
   "execution_count": null,
   "metadata": {},
   "outputs": [],
   "source": [
    "fs=12\n",
    "lw=1.5\n",
    "alpha=0.6\n",
    "fig, ax = plt.subplots(frameon=False,ncols=2,figsize=(15,6),#sharex=True,sharey=True,\n",
    "                      )#subplot_kw={'projection': ccrs.Mercator(), 'facecolor':\"gray\"})\n",
    "speed_global = np.sqrt(ocn_m.eastward_eulerian_current_velocity.isel(time=TOI.start)**2 + ocn_m.northward_eulerian_current_velocity.isel(time=TOI.start)**2)\n",
    "speed = np.sqrt(wt.U**2 + wt.V**2)\n",
    "\n",
    "\n",
    "cf0=ax[0].pcolormesh(ocn_m.lon, ocn_m.lat, speed_global ,\n",
    "                           cmap=cmocean.cm.speed, vmax=2,\n",
    "                 shading='auto')\n",
    "\n",
    "\n",
    "ax[0].plot(ocn_m_subset_extent_lon,ocn_m_subset_extent_lat,lw=lw)\n",
    "\n",
    "\n",
    "cf1=ax[1].pcolormesh(x, y, speed.isel(time=8),\n",
    "                           cmap=cmocean.cm.speed, vmax=2,\n",
    "                 shading='auto')\n",
    "\n",
    "step=1\n",
    "for i in range(0,wt.nb_wave_rays,step):\n",
    "    if i == 0:\n",
    "        ax[1].plot(wt.ray_x[i,:],wt.ray_y[i,:],'-',c='tab:red',alpha=alpha,lw=lw,label='Wave ray')\n",
    "    else:\n",
    "        ax[1].plot(wt.ray_x[i,:],wt.ray_y[i,:],'-',c='tab:red',alpha=alpha,lw=lw)\n",
    "\n",
    "ax[1].set_xlim([1.8e6,3.0e6])\n",
    "ax[1].set_ylim([0.4e6,1.4e6])\n",
    "\n",
    "ax[1].legend(fontsize=fs,loc='lower right')\n",
    "ax[1].axes.set_xticklabels([])\n",
    "ax[1].axes.set_yticklabels([])\n",
    "\n",
    "fig.tight_layout()\n",
    "\n",
    "cb = fig.colorbar(cf1, ax=[ax[0],ax[1]], orientation='horizontal',shrink=0.6,pad=0.07)\n",
    "cb.set_label('Current speed [m/s]',fontsize=fs)\n",
    "\n",
    "fig.savefig('agulhas_POC.png',dpi=120)\n"
   ]
  },
  {
   "cell_type": "code",
   "execution_count": null,
   "metadata": {},
   "outputs": [],
   "source": []
  }
 ],
 "metadata": {
  "kernelspec": {
   "display_name": "Python 3 (ipykernel)",
   "language": "python",
   "name": "python3"
  },
  "language_info": {
   "codemirror_mode": {
    "name": "ipython",
    "version": 3
   },
   "file_extension": ".py",
   "mimetype": "text/x-python",
   "name": "python",
   "nbconvert_exporter": "python",
   "pygments_lexer": "ipython3",
   "version": "3.11.0"
  }
 },
 "nbformat": 4,
 "nbformat_minor": 2
}
